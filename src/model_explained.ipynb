{
 "cells": [
  {
   "cell_type": "markdown",
   "metadata": {},
   "source": [
    "# Fetch data\n",
    "\n",
    "We first import our code module, and fetch the data\n",
    "The training data and testing data are dictionaries, split into x (data for the neural network) and y (answers to the dataset)"
   ]
  },
  {
   "cell_type": "code",
   "execution_count": 1,
   "metadata": {},
   "outputs": [
    {
     "data": {
      "text/plain": [
       "({'x':         Home_Team  Away_Team  Season  Round  homeScore  awayScore  homePoint  \\\n",
       "  21922          53        464    1993      8          2          0        3.0   \n",
       "  9734          149        462    2020     29          0          2        0.0   \n",
       "  82799         406        271    1997     26          2          0        3.0   \n",
       "  142359        318        219    2012     14          1          2        0.0   \n",
       "  11568         283         48    1994     28          2          0        3.0   \n",
       "  ...           ...        ...     ...    ...        ...        ...        ...   \n",
       "  8443          255        229    2016     22          2          2        1.0   \n",
       "  17008         539         48    2012     20          0          0        1.0   \n",
       "  125625        356        430    1996      6          3          2        3.0   \n",
       "  5539          168        226    2007      5          1          1        1.0   \n",
       "  12102          55        256    1996     19          1          4        0.0   \n",
       "  \n",
       "          awayPoint  Elo_home  Elo_away  awayGoal  homeGoal  awayGoalTotal  \\\n",
       "  21922         0.0      55.0      59.0        12        23             66   \n",
       "  9734          3.0      52.0      63.0        42        17             42   \n",
       "  82799         0.0      70.0      70.0        20        17             20   \n",
       "  142359        3.0      41.0      53.0        67        10             85   \n",
       "  11568         0.0      70.0      79.0        47        19            187   \n",
       "  ...           ...       ...       ...       ...       ...            ...   \n",
       "  8443          1.0      65.0      51.0        34        39             34   \n",
       "  17008         1.0      78.0      75.0        10        81            449   \n",
       "  125625        0.0      64.0      82.0        42        31            113   \n",
       "  5539          1.0      39.0      67.0         4         1             75   \n",
       "  12102         3.0      88.0      82.0        12        21            430   \n",
       "  \n",
       "          homeGoalTotal  homeStreak  awayStreak  homeStreakTotal  \\\n",
       "  21922             110           1           0                3   \n",
       "  9734              219           0           2                4   \n",
       "  82799              17           1           0                2   \n",
       "  142359             10           0           1                1   \n",
       "  11568             593           1           0                5   \n",
       "  ...               ...         ...         ...              ...   \n",
       "  8443              285           0           0                6   \n",
       "  17008             616           0           0               10   \n",
       "  125625             31           1           0                1   \n",
       "  5539                1           0           0                1   \n",
       "  12102             262           0           1                7   \n",
       "  \n",
       "          awayStreakTotal  \n",
       "  21922                 4  \n",
       "  9734                  5  \n",
       "  82799                 3  \n",
       "  142359                3  \n",
       "  11568                 6  \n",
       "  ...                 ...  \n",
       "  8443                  2  \n",
       "  17008                 6  \n",
       "  125625                5  \n",
       "  5539                  4  \n",
       "  12102                 5  \n",
       "  \n",
       "  [107898 rows x 18 columns],\n",
       "  'y': array([2, 3, 2, ..., 2, 1, 3])},\n",
       " {'x':         Home_Team  Away_Team  Season  Round  homeScore  awayScore  homePoint  \\\n",
       "  55648          30        331    2017     35          1          2        0.0   \n",
       "  79324           5        267    2019      5          4          2        3.0   \n",
       "  31604         198         49    2004     34          2          2        1.0   \n",
       "  119211        191        212    2009     10          2          0        3.0   \n",
       "  71344          34        478    1998      5          0          0        1.0   \n",
       "  ...           ...        ...     ...    ...        ...        ...        ...   \n",
       "  145999        275         35    2020     22          0          3        0.0   \n",
       "  48291         461        297    1997     22          0          1        0.0   \n",
       "  72890         265        144    2002      7          3          0        3.0   \n",
       "  52511         311        331    2009     25          0          2        0.0   \n",
       "  124330        476        430    1991     32          1          1        1.0   \n",
       "  \n",
       "          awayPoint  Elo_home  Elo_away  awayGoal  homeGoal  awayGoalTotal  \\\n",
       "  55648         3.0      68.0      86.0        28        61            601   \n",
       "  79324         0.0      72.0      81.0         5         8            489   \n",
       "  31604         1.0      57.0      47.0        68        68            306   \n",
       "  119211        0.0      47.0      49.0         0        20              0   \n",
       "  71344         1.0      89.0      82.0        26        38            194   \n",
       "  ...           ...       ...       ...       ...       ...            ...   \n",
       "  145999        3.0      41.0      53.0        47        58            368   \n",
       "  48291         3.0      76.0      79.0        12        21            107   \n",
       "  72890         0.0      88.0      75.0        37         8            339   \n",
       "  52511         3.0      76.0      92.0        76        10            379   \n",
       "  124330        1.0      82.0      86.0        38        27             38   \n",
       "  \n",
       "          homeGoalTotal  homeStreak  awayStreak  homeStreakTotal  \\\n",
       "  55648              61           0           1                4   \n",
       "  79324             162           1           0                5   \n",
       "  31604             102           0           0                0   \n",
       "  119211            236          10           0               34   \n",
       "  71344             285           0           0                6   \n",
       "  ...               ...         ...         ...              ...   \n",
       "  145999            395           0           1                5   \n",
       "  48291             140           0           1                4   \n",
       "  72890             442           3           0                7   \n",
       "  52511             198           0           3                4   \n",
       "  124330             27           0           0                2   \n",
       "  \n",
       "          awayStreakTotal  \n",
       "  55648                 9  \n",
       "  79324                 7  \n",
       "  31604                34  \n",
       "  119211               34  \n",
       "  71344                 6  \n",
       "  ...                 ...  \n",
       "  145999                5  \n",
       "  48291                 5  \n",
       "  72890                 5  \n",
       "  52511                 9  \n",
       "  124330                5  \n",
       "  \n",
       "  [26975 rows x 18 columns],\n",
       "  'y': array([3, 2, 1, ..., 2, 3, 1])})"
      ]
     },
     "execution_count": 1,
     "metadata": {},
     "output_type": "execute_result"
    }
   ],
   "source": [
    "import models\n",
    "\n",
    "trainData, testData, cols = models.loadData()\n",
    "trainData, testData"
   ]
  },
  {
   "cell_type": "markdown",
   "metadata": {},
   "source": [
    "# Simple model\n",
    "\n",
    "We load in the simple model, or create one if none is found"
   ]
  },
  {
   "cell_type": "code",
   "execution_count": 2,
   "metadata": {},
   "outputs": [
    {
     "data": {
      "text/html": [
       "<style>#sk-container-id-1 {color: black;background-color: white;}#sk-container-id-1 pre{padding: 0;}#sk-container-id-1 div.sk-toggleable {background-color: white;}#sk-container-id-1 label.sk-toggleable__label {cursor: pointer;display: block;width: 100%;margin-bottom: 0;padding: 0.3em;box-sizing: border-box;text-align: center;}#sk-container-id-1 label.sk-toggleable__label-arrow:before {content: \"▸\";float: left;margin-right: 0.25em;color: #696969;}#sk-container-id-1 label.sk-toggleable__label-arrow:hover:before {color: black;}#sk-container-id-1 div.sk-estimator:hover label.sk-toggleable__label-arrow:before {color: black;}#sk-container-id-1 div.sk-toggleable__content {max-height: 0;max-width: 0;overflow: hidden;text-align: left;background-color: #f0f8ff;}#sk-container-id-1 div.sk-toggleable__content pre {margin: 0.2em;color: black;border-radius: 0.25em;background-color: #f0f8ff;}#sk-container-id-1 input.sk-toggleable__control:checked~div.sk-toggleable__content {max-height: 200px;max-width: 100%;overflow: auto;}#sk-container-id-1 input.sk-toggleable__control:checked~label.sk-toggleable__label-arrow:before {content: \"▾\";}#sk-container-id-1 div.sk-estimator input.sk-toggleable__control:checked~label.sk-toggleable__label {background-color: #d4ebff;}#sk-container-id-1 div.sk-label input.sk-toggleable__control:checked~label.sk-toggleable__label {background-color: #d4ebff;}#sk-container-id-1 input.sk-hidden--visually {border: 0;clip: rect(1px 1px 1px 1px);clip: rect(1px, 1px, 1px, 1px);height: 1px;margin: -1px;overflow: hidden;padding: 0;position: absolute;width: 1px;}#sk-container-id-1 div.sk-estimator {font-family: monospace;background-color: #f0f8ff;border: 1px dotted black;border-radius: 0.25em;box-sizing: border-box;margin-bottom: 0.5em;}#sk-container-id-1 div.sk-estimator:hover {background-color: #d4ebff;}#sk-container-id-1 div.sk-parallel-item::after {content: \"\";width: 100%;border-bottom: 1px solid gray;flex-grow: 1;}#sk-container-id-1 div.sk-label:hover label.sk-toggleable__label {background-color: #d4ebff;}#sk-container-id-1 div.sk-serial::before {content: \"\";position: absolute;border-left: 1px solid gray;box-sizing: border-box;top: 0;bottom: 0;left: 50%;z-index: 0;}#sk-container-id-1 div.sk-serial {display: flex;flex-direction: column;align-items: center;background-color: white;padding-right: 0.2em;padding-left: 0.2em;position: relative;}#sk-container-id-1 div.sk-item {position: relative;z-index: 1;}#sk-container-id-1 div.sk-parallel {display: flex;align-items: stretch;justify-content: center;background-color: white;position: relative;}#sk-container-id-1 div.sk-item::before, #sk-container-id-1 div.sk-parallel-item::before {content: \"\";position: absolute;border-left: 1px solid gray;box-sizing: border-box;top: 0;bottom: 0;left: 50%;z-index: -1;}#sk-container-id-1 div.sk-parallel-item {display: flex;flex-direction: column;z-index: 1;position: relative;background-color: white;}#sk-container-id-1 div.sk-parallel-item:first-child::after {align-self: flex-end;width: 50%;}#sk-container-id-1 div.sk-parallel-item:last-child::after {align-self: flex-start;width: 50%;}#sk-container-id-1 div.sk-parallel-item:only-child::after {width: 0;}#sk-container-id-1 div.sk-dashed-wrapped {border: 1px dashed gray;margin: 0 0.4em 0.5em 0.4em;box-sizing: border-box;padding-bottom: 0.4em;background-color: white;}#sk-container-id-1 div.sk-label label {font-family: monospace;font-weight: bold;display: inline-block;line-height: 1.2em;}#sk-container-id-1 div.sk-label-container {text-align: center;}#sk-container-id-1 div.sk-container {/* jupyter's `normalize.less` sets `[hidden] { display: none; }` but bootstrap.min.css set `[hidden] { display: none !important; }` so we also need the `!important` here to be able to override the default hidden behavior on the sphinx rendered scikit-learn.org. See: https://github.com/scikit-learn/scikit-learn/issues/21755 */display: inline-block !important;position: relative;}#sk-container-id-1 div.sk-text-repr-fallback {display: none;}</style><div id=\"sk-container-id-1\" class=\"sk-top-container\"><div class=\"sk-text-repr-fallback\"><pre>LinearRegression()</pre><b>In a Jupyter environment, please rerun this cell to show the HTML representation or trust the notebook. <br />On GitHub, the HTML representation is unable to render, please try loading this page with nbviewer.org.</b></div><div class=\"sk-container\" hidden><div class=\"sk-item\"><div class=\"sk-estimator sk-toggleable\"><input class=\"sk-toggleable__control sk-hidden--visually\" id=\"sk-estimator-id-1\" type=\"checkbox\" checked><label for=\"sk-estimator-id-1\" class=\"sk-toggleable__label sk-toggleable__label-arrow\">LinearRegression</label><div class=\"sk-toggleable__content\"><pre>LinearRegression()</pre></div></div></div></div></div>"
      ],
      "text/plain": [
       "LinearRegression()"
      ]
     },
     "execution_count": 2,
     "metadata": {},
     "output_type": "execute_result"
    }
   ],
   "source": [
    "sMod = models.loadModel(\"baseline.joblib\")\n",
    "sMod"
   ]
  },
  {
   "cell_type": "markdown",
   "metadata": {},
   "source": [
    "We then train this model on the data and generate a baseline, then save the model"
   ]
  },
  {
   "cell_type": "code",
   "execution_count": 3,
   "metadata": {},
   "outputs": [
    {
     "name": "stdout",
     "output_type": "stream",
     "text": [
      "Training model: LinearRegression\n",
      "Performance summary for LinearRegression\n",
      "Mean squared error\n",
      "- Training: 0.0502\n",
      "- Testing : 0.0502\n",
      "Score:\n",
      "- Training:  0.9375\n",
      "- Testing:   0.9381\n",
      "- Difference:0.0006\n"
     ]
    }
   ],
   "source": [
    "base = models.trainAndScore(sMod, trainData, testData)\n",
    "models.saveModel(sMod, \"baseline.joblib\")"
   ]
  },
  {
   "cell_type": "markdown",
   "metadata": {},
   "source": [
    "# Feature selection\n",
    "\n",
    "We determine the best features in the dataset, and generate a new restricted dataset and score from those"
   ]
  },
  {
   "cell_type": "code",
   "execution_count": 4,
   "metadata": {},
   "outputs": [
    {
     "name": "stdout",
     "output_type": "stream",
     "text": [
      "Training model: LinearRegression\n",
      "Performance summary for LinearRegression\n",
      "Mean squared error\n",
      "- Training: 0.5771\n",
      "- Testing : 0.5771\n",
      "Score:\n",
      "- Training:  0.2817\n",
      "- Testing:   0.2875\n",
      "- Difference:0.0058\n"
     ]
    },
    {
     "data": {
      "text/plain": [
       "'Selected columns: Home_Team, Away_Team, Season, Round, homeScore'"
      ]
     },
     "execution_count": 4,
     "metadata": {},
     "output_type": "execute_result"
    }
   ],
   "source": [
    "ntrainData, ntestData, ncols, nfeat = models.selectFeatures(trainData, testData, cols, 5)\n",
    "\n",
    "base2 = models.trainAndScore(sMod, ntrainData, ntestData)\n",
    "\n",
    "f\"Selected columns: {', '.join(ncols)}\""
   ]
  },
  {
   "cell_type": "markdown",
   "metadata": {},
   "source": [
    "# Model selection\n",
    "\n",
    "We generate a set of new models to test against"
   ]
  },
  {
   "cell_type": "code",
   "execution_count": 5,
   "metadata": {},
   "outputs": [
    {
     "data": {
      "text/plain": [
       "'New models: LassoLarsIC, LinearDiscriminantAnalysis, SGDClassifier, GaussianNB, DecisionTreeClassifier, BaggingClassifier, MLPClassifier'"
      ]
     },
     "execution_count": 5,
     "metadata": {},
     "output_type": "execute_result"
    }
   ],
   "source": [
    "mods = models.createNewModels()\n",
    "f\"New models: {', '.join([mod.__class__.__name__ for mod in mods])}\""
   ]
  },
  {
   "cell_type": "markdown",
   "metadata": {},
   "source": [
    "We then pit them against eachother, and our baseline model"
   ]
  },
  {
   "cell_type": "code",
   "execution_count": 6,
   "metadata": {},
   "outputs": [
    {
     "name": "stdout",
     "output_type": "stream",
     "text": [
      "Training model: LinearRegression\n",
      "Performance summary for LinearRegression\n",
      "Mean squared error\n",
      "- Training: 0.5771\n",
      "- Testing : 0.5771\n",
      "Score:\n",
      "- Training:  0.2817\n",
      "- Testing:   0.2875\n",
      "- Difference:0.0058\n",
      "Training model: LassoLarsIC\n",
      "Performance summary for LassoLarsIC\n",
      "Mean squared error\n",
      "- Training: 0.5771\n",
      "- Testing : 0.5771\n",
      "Score:\n",
      "- Training:  0.2817\n",
      "- Testing:   0.2875\n",
      "- Difference:0.0058\n",
      "Training model: LinearDiscriminantAnalysis\n",
      "Performance summary for LinearDiscriminantAnalysis\n",
      "Score:\n",
      "- Training:  0.9071\n",
      "- Testing:   0.9113\n",
      "- Difference:0.0042\n",
      "Training model: SGDClassifier\n"
     ]
    },
    {
     "name": "stderr",
     "output_type": "stream",
     "text": [
      "/home/skiy/.local/lib/python3.8/site-packages/sklearn/linear_model/_base.py:133: FutureWarning: The default of 'normalize' will be set to False in version 1.2 and deprecated in version 1.4.\n",
      "If you wish to scale the data, use Pipeline with a StandardScaler in a preprocessing stage. To reproduce the previous behavior:\n",
      "\n",
      "from sklearn.pipeline import make_pipeline\n",
      "\n",
      "model = make_pipeline(StandardScaler(with_mean=False), LassoLarsIC())\n",
      "\n",
      "If you wish to pass a sample_weight parameter, you need to pass it as a fit parameter to each step of the pipeline as follows:\n",
      "\n",
      "kwargs = {s[0] + '__sample_weight': sample_weight for s in model.steps}\n",
      "model.fit(X, y, **kwargs)\n",
      "\n",
      "Set parameter alpha to: original_alpha * np.sqrt(n_samples). \n",
      "  warnings.warn(\n"
     ]
    },
    {
     "name": "stdout",
     "output_type": "stream",
     "text": [
      "Performance summary for SGDClassifier\n",
      "Score:\n",
      "- Training:  0.8257\n",
      "- Testing:   0.8231\n",
      "- Difference:-0.0026\n",
      "Training model: GaussianNB\n",
      "Performance summary for GaussianNB\n",
      "Score:\n",
      "- Training:  0.9071\n",
      "- Testing:   0.9113\n",
      "- Difference:0.0042\n",
      "Training model: DecisionTreeClassifier\n",
      "Performance summary for DecisionTreeClassifier\n",
      "Score:\n",
      "- Training:  0.9933\n",
      "- Testing:   0.8839\n",
      "- Difference:-0.1094\n",
      "Training model: BaggingClassifier\n",
      "Performance summary for BaggingClassifier\n",
      "Score:\n",
      "- Training:  0.9878\n",
      "- Testing:   0.8869\n",
      "- Difference:-0.1009\n",
      "Training model: MLPClassifier\n",
      "Performance summary for MLPClassifier\n",
      "Score:\n",
      "- Training:  0.9091\n",
      "- Testing:   0.9116\n",
      "- Difference:0.0025\n"
     ]
    },
    {
     "data": {
      "image/png": "[encoded data removed]",
      "text/plain": [
       "<Figure size 432x288 with 1 Axes>"
      ]
     },
     "metadata": {
      "needs_background": "light"
     },
     "output_type": "display_data"
    }
   ],
   "source": [
    "base3 = models.trainAndScore([sMod]+mods, ntrainData, ntestData)"
   ]
  },
  {
   "cell_type": "markdown",
   "metadata": {},
   "source": [
    "And determine which model performed the best"
   ]
  },
  {
   "cell_type": "code",
   "execution_count": 7,
   "metadata": {},
   "outputs": [
    {
     "name": "stdout",
     "output_type": "stream",
     "text": [
      "MLPClassifier performed the best on the testing set.\n"
     ]
    }
   ],
   "source": [
    "bestModel = models.scoreModels(base3)"
   ]
  },
  {
   "cell_type": "markdown",
   "metadata": {},
   "source": [
    "# Itterative training\n",
    "\n",
    "We then chose to train the model on sub sets of the data that may better represent any newer values\n",
    "(ie: those games played in more recent years)"
   ]
  },
  {
   "cell_type": "code",
   "execution_count": 8,
   "metadata": {},
   "outputs": [
    {
     "name": "stdout",
     "output_type": "stream",
     "text": [
      "Training model: MLPClassifier_best\n",
      "Performance summary for MLPClassifier_best\n",
      "Score:\n",
      "- Training:  0.9138\n",
      "- Testing:   0.9175\n",
      "- Difference:0.0037\n"
     ]
    },
    {
     "data": {
      "image/png": "[encoded data removed]",
      "text/plain": [
       "<Figure size 432x288 with 1 Axes>"
      ]
     },
     "metadata": {
      "needs_background": "light"
     },
     "output_type": "display_data"
    }
   ],
   "source": [
    "strainData = models.subSet(ntrainData, trainData[\"x\"][\"Season\"] >= 2000)\n",
    "stestData = models.subSet(ntestData, testData[\"x\"][\"Season\"] >= 2000)\n",
    "\n",
    "base4 = models.trainAndScore(bestModel, strainData, stestData)"
   ]
  }
 ],
 "metadata": {
  "kernelspec": {
   "display_name": "Python 3.8.10 64-bit",
   "language": "python",
   "name": "python3"
  },
  "language_info": {
   "codemirror_mode": {
    "name": "ipython",
    "version": 3
   },
   "file_extension": ".py",
   "mimetype": "text/x-python",
   "name": "python",
   "nbconvert_exporter": "python",
   "pygments_lexer": "ipython3",
   "version": "3.8.10"
  },
  "orig_nbformat": 4,
  "vscode": {
   "interpreter": {
    "hash": "916dbcbb3f70747c44a77c7bcd40155683ae19c65e1c03b4aa3499c5328201f1"
   }
  }
 },
 "nbformat": 4,
 "nbformat_minor": 2
}
