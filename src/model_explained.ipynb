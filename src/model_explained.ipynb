{
 "cells": [
  {
   "cell_type": "markdown",
   "metadata": {},
   "source": [
    "# Fetch data\n",
    "\n",
    "We first import our code module, and fetch the data\n",
    "The training data and testing data are dictionaries, split into x (data for the neural network) and y (answers to the dataset)"
   ]
  },
  {
   "cell_type": "code",
   "execution_count": 1,
   "metadata": {},
   "outputs": [
    {
     "name": "stdout",
     "output_type": "stream",
     "text": [
      "cleaned_dataset.csv\n"
     ]
    },
    {
     "data": {
      "text/html": [
       "<div>\n",
       "<style scoped>\n",
       "    .dataframe tbody tr th:only-of-type {\n",
       "        vertical-align: middle;\n",
       "    }\n",
       "\n",
       "    .dataframe tbody tr th {\n",
       "        vertical-align: top;\n",
       "    }\n",
       "\n",
       "    .dataframe thead th {\n",
       "        text-align: right;\n",
       "    }\n",
       "</style>\n",
       "<table border=\"1\" class=\"dataframe\">\n",
       "  <thead>\n",
       "    <tr style=\"text-align: right;\">\n",
       "      <th></th>\n",
       "      <th>Home_Team</th>\n",
       "      <th>Away_Team</th>\n",
       "      <th>Season</th>\n",
       "      <th>Round</th>\n",
       "      <th>Elo_home</th>\n",
       "      <th>Elo_away</th>\n",
       "    </tr>\n",
       "  </thead>\n",
       "  <tbody>\n",
       "    <tr>\n",
       "      <th>141918</th>\n",
       "      <td>124</td>\n",
       "      <td>356</td>\n",
       "      <td>2011</td>\n",
       "      <td>16</td>\n",
       "      <td>51.0</td>\n",
       "      <td>59.0</td>\n",
       "    </tr>\n",
       "    <tr>\n",
       "      <th>118202</th>\n",
       "      <td>212</td>\n",
       "      <td>176</td>\n",
       "      <td>2005</td>\n",
       "      <td>18</td>\n",
       "      <td>53.0</td>\n",
       "      <td>49.0</td>\n",
       "    </tr>\n",
       "    <tr>\n",
       "      <th>44639</th>\n",
       "      <td>15</td>\n",
       "      <td>154</td>\n",
       "      <td>2019</td>\n",
       "      <td>3</td>\n",
       "      <td>88.0</td>\n",
       "      <td>63.0</td>\n",
       "    </tr>\n",
       "    <tr>\n",
       "      <th>103329</th>\n",
       "      <td>128</td>\n",
       "      <td>345</td>\n",
       "      <td>1993</td>\n",
       "      <td>33</td>\n",
       "      <td>51.0</td>\n",
       "      <td>50.0</td>\n",
       "    </tr>\n",
       "    <tr>\n",
       "      <th>20811</th>\n",
       "      <td>440</td>\n",
       "      <td>81</td>\n",
       "      <td>1991</td>\n",
       "      <td>8</td>\n",
       "      <td>70.0</td>\n",
       "      <td>48.0</td>\n",
       "    </tr>\n",
       "  </tbody>\n",
       "</table>\n",
       "</div>"
      ],
      "text/plain": [
       "        Home_Team  Away_Team  Season  Round  Elo_home  Elo_away\n",
       "141918        124        356    2011     16      51.0      59.0\n",
       "118202        212        176    2005     18      53.0      49.0\n",
       "44639          15        154    2019      3      88.0      63.0\n",
       "103329        128        345    1993     33      51.0      50.0\n",
       "20811         440         81    1991      8      70.0      48.0"
      ]
     },
     "execution_count": 1,
     "metadata": {},
     "output_type": "execute_result"
    }
   ],
   "source": [
    "import models\n",
    "\n",
    "trainData, testData, cols = models.loadData()\n",
    "trainData[\"x\"].head()"
   ]
  },
  {
   "cell_type": "markdown",
   "metadata": {},
   "source": [
    "# Simple model\n",
    "\n",
    "We load in the simple model, or create one if none is found"
   ]
  },
  {
   "cell_type": "code",
   "execution_count": 2,
   "metadata": {},
   "outputs": [
    {
     "data": {
      "text/html": [
       "<style>#sk-container-id-1 {color: black;background-color: white;}#sk-container-id-1 pre{padding: 0;}#sk-container-id-1 div.sk-toggleable {background-color: white;}#sk-container-id-1 label.sk-toggleable__label {cursor: pointer;display: block;width: 100%;margin-bottom: 0;padding: 0.3em;box-sizing: border-box;text-align: center;}#sk-container-id-1 label.sk-toggleable__label-arrow:before {content: \"▸\";float: left;margin-right: 0.25em;color: #696969;}#sk-container-id-1 label.sk-toggleable__label-arrow:hover:before {color: black;}#sk-container-id-1 div.sk-estimator:hover label.sk-toggleable__label-arrow:before {color: black;}#sk-container-id-1 div.sk-toggleable__content {max-height: 0;max-width: 0;overflow: hidden;text-align: left;background-color: #f0f8ff;}#sk-container-id-1 div.sk-toggleable__content pre {margin: 0.2em;color: black;border-radius: 0.25em;background-color: #f0f8ff;}#sk-container-id-1 input.sk-toggleable__control:checked~div.sk-toggleable__content {max-height: 200px;max-width: 100%;overflow: auto;}#sk-container-id-1 input.sk-toggleable__control:checked~label.sk-toggleable__label-arrow:before {content: \"▾\";}#sk-container-id-1 div.sk-estimator input.sk-toggleable__control:checked~label.sk-toggleable__label {background-color: #d4ebff;}#sk-container-id-1 div.sk-label input.sk-toggleable__control:checked~label.sk-toggleable__label {background-color: #d4ebff;}#sk-container-id-1 input.sk-hidden--visually {border: 0;clip: rect(1px 1px 1px 1px);clip: rect(1px, 1px, 1px, 1px);height: 1px;margin: -1px;overflow: hidden;padding: 0;position: absolute;width: 1px;}#sk-container-id-1 div.sk-estimator {font-family: monospace;background-color: #f0f8ff;border: 1px dotted black;border-radius: 0.25em;box-sizing: border-box;margin-bottom: 0.5em;}#sk-container-id-1 div.sk-estimator:hover {background-color: #d4ebff;}#sk-container-id-1 div.sk-parallel-item::after {content: \"\";width: 100%;border-bottom: 1px solid gray;flex-grow: 1;}#sk-container-id-1 div.sk-label:hover label.sk-toggleable__label {background-color: #d4ebff;}#sk-container-id-1 div.sk-serial::before {content: \"\";position: absolute;border-left: 1px solid gray;box-sizing: border-box;top: 0;bottom: 0;left: 50%;z-index: 0;}#sk-container-id-1 div.sk-serial {display: flex;flex-direction: column;align-items: center;background-color: white;padding-right: 0.2em;padding-left: 0.2em;position: relative;}#sk-container-id-1 div.sk-item {position: relative;z-index: 1;}#sk-container-id-1 div.sk-parallel {display: flex;align-items: stretch;justify-content: center;background-color: white;position: relative;}#sk-container-id-1 div.sk-item::before, #sk-container-id-1 div.sk-parallel-item::before {content: \"\";position: absolute;border-left: 1px solid gray;box-sizing: border-box;top: 0;bottom: 0;left: 50%;z-index: -1;}#sk-container-id-1 div.sk-parallel-item {display: flex;flex-direction: column;z-index: 1;position: relative;background-color: white;}#sk-container-id-1 div.sk-parallel-item:first-child::after {align-self: flex-end;width: 50%;}#sk-container-id-1 div.sk-parallel-item:last-child::after {align-self: flex-start;width: 50%;}#sk-container-id-1 div.sk-parallel-item:only-child::after {width: 0;}#sk-container-id-1 div.sk-dashed-wrapped {border: 1px dashed gray;margin: 0 0.4em 0.5em 0.4em;box-sizing: border-box;padding-bottom: 0.4em;background-color: white;}#sk-container-id-1 div.sk-label label {font-family: monospace;font-weight: bold;display: inline-block;line-height: 1.2em;}#sk-container-id-1 div.sk-label-container {text-align: center;}#sk-container-id-1 div.sk-container {/* jupyter's `normalize.less` sets `[hidden] { display: none; }` but bootstrap.min.css set `[hidden] { display: none !important; }` so we also need the `!important` here to be able to override the default hidden behavior on the sphinx rendered scikit-learn.org. See: https://github.com/scikit-learn/scikit-learn/issues/21755 */display: inline-block !important;position: relative;}#sk-container-id-1 div.sk-text-repr-fallback {display: none;}</style><div id=\"sk-container-id-1\" class=\"sk-top-container\"><div class=\"sk-text-repr-fallback\"><pre>LinearRegression()</pre><b>In a Jupyter environment, please rerun this cell to show the HTML representation or trust the notebook. <br />On GitHub, the HTML representation is unable to render, please try loading this page with nbviewer.org.</b></div><div class=\"sk-container\" hidden><div class=\"sk-item\"><div class=\"sk-estimator sk-toggleable\"><input class=\"sk-toggleable__control sk-hidden--visually\" id=\"sk-estimator-id-1\" type=\"checkbox\" checked><label for=\"sk-estimator-id-1\" class=\"sk-toggleable__label sk-toggleable__label-arrow\">LinearRegression</label><div class=\"sk-toggleable__content\"><pre>LinearRegression()</pre></div></div></div></div></div>"
      ],
      "text/plain": [
       "LinearRegression()"
      ]
     },
     "execution_count": 2,
     "metadata": {},
     "output_type": "execute_result"
    }
   ],
   "source": [
    "sMod = models.loadModel(\"baseline.joblib\")\n",
    "sMod"
   ]
  },
  {
   "cell_type": "markdown",
   "metadata": {},
   "source": [
    "We then train this model on the data and generate a baseline, then save the model"
   ]
  },
  {
   "cell_type": "code",
   "execution_count": 3,
   "metadata": {},
   "outputs": [
    {
     "name": "stdout",
     "output_type": "stream",
     "text": [
      "Training model: LinearRegression\n",
      "Performance summary for LinearRegression\n",
      "Mean squared error\n",
      "- Training: 0.7958\n",
      "- Testing : 0.7958\n",
      "Score:\n",
      "- Training:  0.0098\n",
      "- Testing:   0.0109\n",
      "- Difference:0.0011\n"
     ]
    }
   ],
   "source": [
    "base = models.trainAndScore(sMod, trainData, testData)\n",
    "models.saveModel(sMod, \"baseline.joblib\")"
   ]
  },
  {
   "cell_type": "markdown",
   "metadata": {},
   "source": [
    "# Feature selection\n",
    "\n",
    "We determine the best features in the dataset, save them, and generate a new restricted dataset and score from those"
   ]
  },
  {
   "cell_type": "code",
   "execution_count": 4,
   "metadata": {},
   "outputs": [
    {
     "name": "stdout",
     "output_type": "stream",
     "text": [
      "Training model: LinearRegression\n",
      "Performance summary for LinearRegression\n",
      "Mean squared error\n",
      "- Training: 0.7958\n",
      "- Testing : 0.7958\n",
      "Score:\n",
      "- Training:  0.0098\n",
      "- Testing:   0.0109\n",
      "- Difference:0.0011\n",
      "Selected columns: Home_Team, Away_Team, Season, Round, Elo_home, Elo_away\n"
     ]
    },
    {
     "data": {
      "text/html": [
       "<div>\n",
       "<style scoped>\n",
       "    .dataframe tbody tr th:only-of-type {\n",
       "        vertical-align: middle;\n",
       "    }\n",
       "\n",
       "    .dataframe tbody tr th {\n",
       "        vertical-align: top;\n",
       "    }\n",
       "\n",
       "    .dataframe thead th {\n",
       "        text-align: right;\n",
       "    }\n",
       "</style>\n",
       "<table border=\"1\" class=\"dataframe\">\n",
       "  <thead>\n",
       "    <tr style=\"text-align: right;\">\n",
       "      <th></th>\n",
       "      <th>Away_Team</th>\n",
       "      <th>Elo_away</th>\n",
       "      <th>Elo_home</th>\n",
       "      <th>Home_Team</th>\n",
       "      <th>Round</th>\n",
       "      <th>Season</th>\n",
       "    </tr>\n",
       "  </thead>\n",
       "  <tbody>\n",
       "    <tr>\n",
       "      <th>141918</th>\n",
       "      <td>356</td>\n",
       "      <td>59.0</td>\n",
       "      <td>51.0</td>\n",
       "      <td>124</td>\n",
       "      <td>16</td>\n",
       "      <td>2011</td>\n",
       "    </tr>\n",
       "    <tr>\n",
       "      <th>118202</th>\n",
       "      <td>176</td>\n",
       "      <td>49.0</td>\n",
       "      <td>53.0</td>\n",
       "      <td>212</td>\n",
       "      <td>18</td>\n",
       "      <td>2005</td>\n",
       "    </tr>\n",
       "    <tr>\n",
       "      <th>44639</th>\n",
       "      <td>154</td>\n",
       "      <td>63.0</td>\n",
       "      <td>88.0</td>\n",
       "      <td>15</td>\n",
       "      <td>3</td>\n",
       "      <td>2019</td>\n",
       "    </tr>\n",
       "    <tr>\n",
       "      <th>103329</th>\n",
       "      <td>345</td>\n",
       "      <td>50.0</td>\n",
       "      <td>51.0</td>\n",
       "      <td>128</td>\n",
       "      <td>33</td>\n",
       "      <td>1993</td>\n",
       "    </tr>\n",
       "    <tr>\n",
       "      <th>20811</th>\n",
       "      <td>81</td>\n",
       "      <td>48.0</td>\n",
       "      <td>70.0</td>\n",
       "      <td>440</td>\n",
       "      <td>8</td>\n",
       "      <td>1991</td>\n",
       "    </tr>\n",
       "  </tbody>\n",
       "</table>\n",
       "</div>"
      ],
      "text/plain": [
       "        Away_Team  Elo_away  Elo_home  Home_Team  Round  Season\n",
       "141918        356      59.0      51.0        124     16    2011\n",
       "118202        176      49.0      53.0        212     18    2005\n",
       "44639         154      63.0      88.0         15      3    2019\n",
       "103329        345      50.0      51.0        128     33    1993\n",
       "20811          81      48.0      70.0        440      8    1991"
      ]
     },
     "execution_count": 4,
     "metadata": {},
     "output_type": "execute_result"
    }
   ],
   "source": [
    "ntrainData, ntestData, ncols, nfeat = models.selectFeatures(trainData, testData, cols, 6)\n",
    "\n",
    "import numpy as np\n",
    "np.save(\"selectedFeatures.npy\", ncols)\n",
    "\n",
    "base2 = models.trainAndScore(sMod, ntrainData, ntestData)\n",
    "\n",
    "print(f\"Selected columns: {', '.join(ncols)}\")\n",
    "ntrainData[\"x\"].head()"
   ]
  },
  {
   "cell_type": "markdown",
   "metadata": {},
   "source": [
    "# Model selection\n",
    "\n",
    "We generate a set of new models to test against"
   ]
  },
  {
   "cell_type": "code",
   "execution_count": 5,
   "metadata": {},
   "outputs": [
    {
     "data": {
      "text/plain": [
       "'New models: LassoLarsIC, LinearDiscriminantAnalysis, SGDClassifier, GaussianNB, DecisionTreeClassifier, BaggingClassifier, MLPClassifier'"
      ]
     },
     "execution_count": 5,
     "metadata": {},
     "output_type": "execute_result"
    }
   ],
   "source": [
    "mods = models.createNewModels()\n",
    "f\"New models: {', '.join([mod.__class__.__name__ for mod in mods])}\""
   ]
  },
  {
   "cell_type": "markdown",
   "metadata": {},
   "source": [
    "We then pit them against eachother, and our baseline model"
   ]
  },
  {
   "cell_type": "code",
   "execution_count": 6,
   "metadata": {},
   "outputs": [
    {
     "name": "stdout",
     "output_type": "stream",
     "text": [
      "Training model: LinearRegression\n",
      "Performance summary for LinearRegression\n",
      "Mean squared error\n",
      "- Training: 0.7958\n",
      "- Testing : 0.7958\n",
      "Score:\n",
      "- Training:  0.0098\n",
      "- Testing:   0.0109\n",
      "- Difference:0.0011\n",
      "Training model: LassoLarsIC\n",
      "Performance summary for LassoLarsIC\n",
      "Mean squared error\n",
      "- Training: 0.7958\n",
      "- Testing : 0.7958\n",
      "Score:\n",
      "- Training:  0.0098\n",
      "- Testing:   0.0108\n",
      "- Difference:0.0010\n",
      "Training model: LinearDiscriminantAnalysis\n"
     ]
    },
    {
     "name": "stderr",
     "output_type": "stream",
     "text": [
      "/home/skiy/.local/lib/python3.10/site-packages/sklearn/linear_model/_base.py:133: FutureWarning: The default of 'normalize' will be set to False in version 1.2 and deprecated in version 1.4.\n",
      "If you wish to scale the data, use Pipeline with a StandardScaler in a preprocessing stage. To reproduce the previous behavior:\n",
      "\n",
      "from sklearn.pipeline import make_pipeline\n",
      "\n",
      "model = make_pipeline(StandardScaler(with_mean=False), LassoLarsIC())\n",
      "\n",
      "If you wish to pass a sample_weight parameter, you need to pass it as a fit parameter to each step of the pipeline as follows:\n",
      "\n",
      "kwargs = {s[0] + '__sample_weight': sample_weight for s in model.steps}\n",
      "model.fit(X, y, **kwargs)\n",
      "\n",
      "Set parameter alpha to: original_alpha * np.sqrt(n_samples). \n",
      "  warnings.warn(\n"
     ]
    },
    {
     "name": "stdout",
     "output_type": "stream",
     "text": [
      "Performance summary for LinearDiscriminantAnalysis\n",
      "Score:\n",
      "- Training:  0.4809\n",
      "- Testing:   0.4811\n",
      "- Difference:0.0002\n",
      "Training model: SGDClassifier\n",
      "Performance summary for SGDClassifier\n",
      "Score:\n",
      "- Training:  0.2761\n",
      "- Testing:   0.2734\n",
      "- Difference:-0.0026\n",
      "Training model: GaussianNB\n",
      "Performance summary for GaussianNB\n",
      "Score:\n",
      "- Training:  0.4788\n",
      "- Testing:   0.4780\n",
      "- Difference:-0.0007\n",
      "Training model: DecisionTreeClassifier\n",
      "Performance summary for DecisionTreeClassifier\n",
      "Score:\n",
      "- Training:  1.0000\n",
      "- Testing:   0.4096\n",
      "- Difference:-0.5904\n",
      "Training model: BaggingClassifier\n",
      "Performance summary for BaggingClassifier\n",
      "Score:\n",
      "- Training:  0.9848\n",
      "- Testing:   0.4625\n",
      "- Difference:-0.5222\n",
      "Training model: MLPClassifier\n",
      "Performance summary for MLPClassifier\n",
      "Score:\n",
      "- Training:  0.3314\n",
      "- Testing:   0.3338\n",
      "- Difference:0.0024\n"
     ]
    },
    {
     "data": {
      "image/png": "[encoded data removed]",
      "text/plain": [
       "<Figure size 432x288 with 1 Axes>"
      ]
     },
     "metadata": {
      "needs_background": "light"
     },
     "output_type": "display_data"
    }
   ],
   "source": [
    "base3 = models.trainAndScore([sMod]+mods, ntrainData, ntestData)"
   ]
  },
  {
   "cell_type": "markdown",
   "metadata": {},
   "source": [
    "And determine which model performed the best"
   ]
  },
  {
   "cell_type": "code",
   "execution_count": 7,
   "metadata": {},
   "outputs": [
    {
     "name": "stdout",
     "output_type": "stream",
     "text": [
      "LinearDiscriminantAnalysis performed the best on the testing set.\n"
     ]
    }
   ],
   "source": [
    "bestModel = models.scoreModels(base3)\n",
    "\n",
    "models.saveModel(bestModel, \"model.joblib\")"
   ]
  },
  {
   "cell_type": "markdown",
   "metadata": {},
   "source": [
    "# Itterative training\n",
    "\n",
    "We then chose to train the model on sub sets of the data that may better represent any newer values\n",
    "(ie: those games played in more recent years)"
   ]
  },
  {
   "cell_type": "code",
   "execution_count": 8,
   "metadata": {},
   "outputs": [
    {
     "name": "stdout",
     "output_type": "stream",
     "text": [
      "Training model: LinearDiscriminantAnalysis_best\n",
      "Performance summary for LinearDiscriminantAnalysis_best\n",
      "Score:\n",
      "- Training:  0.4769\n",
      "- Testing:   0.4777\n",
      "- Difference:0.0008\n"
     ]
    }
   ],
   "source": [
    "strainData = models.subSet(ntrainData, trainData[\"x\"][\"Season\"] >= 2000)\n",
    "stestData = models.subSet(ntestData, testData[\"x\"][\"Season\"] >= 2000)\n",
    "\n",
    "base4 = models.trainAndScore(bestModel, strainData, stestData)"
   ]
  }
 ],
 "metadata": {
  "kernelspec": {
   "display_name": "Python 3.8.10 64-bit",
   "language": "python",
   "name": "python3"
  },
  "language_info": {
   "codemirror_mode": {
    "name": "ipython",
    "version": 3
   },
   "file_extension": ".py",
   "mimetype": "text/x-python",
   "name": "python",
   "nbconvert_exporter": "python",
   "pygments_lexer": "ipython3",
   "version": "3.10.4"
  },
  "orig_nbformat": 4,
  "vscode": {
   "interpreter": {
    "hash": "916dbcbb3f70747c44a77c7bcd40155683ae19c65e1c03b4aa3499c5328201f1"
   }
  }
 },
 "nbformat": 4,
 "nbformat_minor": 2
}
