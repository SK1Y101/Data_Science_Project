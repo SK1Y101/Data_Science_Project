{
 "cells": [
  {
   "cell_type": "markdown",
   "metadata": {},
   "source": [
    "# Inference\n",
    "\n",
    "We have previously trained a model, now we provide it new data, and attempt to generate some predictions\n",
    "\n",
    "Load in the old model"
   ]
  },
  {
   "cell_type": "code",
   "execution_count": 1,
   "metadata": {},
   "outputs": [
    {
     "data": {
      "text/html": [
       "<style>#sk-container-id-1 {color: black;background-color: white;}#sk-container-id-1 pre{padding: 0;}#sk-container-id-1 div.sk-toggleable {background-color: white;}#sk-container-id-1 label.sk-toggleable__label {cursor: pointer;display: block;width: 100%;margin-bottom: 0;padding: 0.3em;box-sizing: border-box;text-align: center;}#sk-container-id-1 label.sk-toggleable__label-arrow:before {content: \"▸\";float: left;margin-right: 0.25em;color: #696969;}#sk-container-id-1 label.sk-toggleable__label-arrow:hover:before {color: black;}#sk-container-id-1 div.sk-estimator:hover label.sk-toggleable__label-arrow:before {color: black;}#sk-container-id-1 div.sk-toggleable__content {max-height: 0;max-width: 0;overflow: hidden;text-align: left;background-color: #f0f8ff;}#sk-container-id-1 div.sk-toggleable__content pre {margin: 0.2em;color: black;border-radius: 0.25em;background-color: #f0f8ff;}#sk-container-id-1 input.sk-toggleable__control:checked~div.sk-toggleable__content {max-height: 200px;max-width: 100%;overflow: auto;}#sk-container-id-1 input.sk-toggleable__control:checked~label.sk-toggleable__label-arrow:before {content: \"▾\";}#sk-container-id-1 div.sk-estimator input.sk-toggleable__control:checked~label.sk-toggleable__label {background-color: #d4ebff;}#sk-container-id-1 div.sk-label input.sk-toggleable__control:checked~label.sk-toggleable__label {background-color: #d4ebff;}#sk-container-id-1 input.sk-hidden--visually {border: 0;clip: rect(1px 1px 1px 1px);clip: rect(1px, 1px, 1px, 1px);height: 1px;margin: -1px;overflow: hidden;padding: 0;position: absolute;width: 1px;}#sk-container-id-1 div.sk-estimator {font-family: monospace;background-color: #f0f8ff;border: 1px dotted black;border-radius: 0.25em;box-sizing: border-box;margin-bottom: 0.5em;}#sk-container-id-1 div.sk-estimator:hover {background-color: #d4ebff;}#sk-container-id-1 div.sk-parallel-item::after {content: \"\";width: 100%;border-bottom: 1px solid gray;flex-grow: 1;}#sk-container-id-1 div.sk-label:hover label.sk-toggleable__label {background-color: #d4ebff;}#sk-container-id-1 div.sk-serial::before {content: \"\";position: absolute;border-left: 1px solid gray;box-sizing: border-box;top: 0;bottom: 0;left: 50%;z-index: 0;}#sk-container-id-1 div.sk-serial {display: flex;flex-direction: column;align-items: center;background-color: white;padding-right: 0.2em;padding-left: 0.2em;position: relative;}#sk-container-id-1 div.sk-item {position: relative;z-index: 1;}#sk-container-id-1 div.sk-parallel {display: flex;align-items: stretch;justify-content: center;background-color: white;position: relative;}#sk-container-id-1 div.sk-item::before, #sk-container-id-1 div.sk-parallel-item::before {content: \"\";position: absolute;border-left: 1px solid gray;box-sizing: border-box;top: 0;bottom: 0;left: 50%;z-index: -1;}#sk-container-id-1 div.sk-parallel-item {display: flex;flex-direction: column;z-index: 1;position: relative;background-color: white;}#sk-container-id-1 div.sk-parallel-item:first-child::after {align-self: flex-end;width: 50%;}#sk-container-id-1 div.sk-parallel-item:last-child::after {align-self: flex-start;width: 50%;}#sk-container-id-1 div.sk-parallel-item:only-child::after {width: 0;}#sk-container-id-1 div.sk-dashed-wrapped {border: 1px dashed gray;margin: 0 0.4em 0.5em 0.4em;box-sizing: border-box;padding-bottom: 0.4em;background-color: white;}#sk-container-id-1 div.sk-label label {font-family: monospace;font-weight: bold;display: inline-block;line-height: 1.2em;}#sk-container-id-1 div.sk-label-container {text-align: center;}#sk-container-id-1 div.sk-container {/* jupyter's `normalize.less` sets `[hidden] { display: none; }` but bootstrap.min.css set `[hidden] { display: none !important; }` so we also need the `!important` here to be able to override the default hidden behavior on the sphinx rendered scikit-learn.org. See: https://github.com/scikit-learn/scikit-learn/issues/21755 */display: inline-block !important;position: relative;}#sk-container-id-1 div.sk-text-repr-fallback {display: none;}</style><div id=\"sk-container-id-1\" class=\"sk-top-container\"><div class=\"sk-text-repr-fallback\"><pre>LinearDiscriminantAnalysis()</pre><b>In a Jupyter environment, please rerun this cell to show the HTML representation or trust the notebook. <br />On GitHub, the HTML representation is unable to render, please try loading this page with nbviewer.org.</b></div><div class=\"sk-container\" hidden><div class=\"sk-item\"><div class=\"sk-estimator sk-toggleable\"><input class=\"sk-toggleable__control sk-hidden--visually\" id=\"sk-estimator-id-1\" type=\"checkbox\" checked><label for=\"sk-estimator-id-1\" class=\"sk-toggleable__label sk-toggleable__label-arrow\">LinearDiscriminantAnalysis</label><div class=\"sk-toggleable__content\"><pre>LinearDiscriminantAnalysis()</pre></div></div></div></div></div>"
      ],
      "text/plain": [
       "LinearDiscriminantAnalysis()"
      ]
     },
     "execution_count": 1,
     "metadata": {},
     "output_type": "execute_result"
    }
   ],
   "source": [
    "import models\n",
    "\n",
    "mod = models.loadModel(\"model.joblib\")\n",
    "mod"
   ]
  },
  {
   "cell_type": "markdown",
   "metadata": {},
   "source": [
    "And load the new dataset"
   ]
  },
  {
   "cell_type": "code",
   "execution_count": 2,
   "metadata": {},
   "outputs": [
    {
     "name": "stdout",
     "output_type": "stream",
     "text": [
      "Columns: Home_Team, Away_Team, Season, Round, Elo_home, Elo_away, awayGoal, homeGoal, awayGoalTotal, homeGoalTotal, homeStreak, awayStreak, homeStreakTotal, awayStreakTotal\n"
     ]
    },
    {
     "data": {
      "text/html": [
       "<div>\n",
       "<style scoped>\n",
       "    .dataframe tbody tr th:only-of-type {\n",
       "        vertical-align: middle;\n",
       "    }\n",
       "\n",
       "    .dataframe tbody tr th {\n",
       "        vertical-align: top;\n",
       "    }\n",
       "\n",
       "    .dataframe thead th {\n",
       "        text-align: right;\n",
       "    }\n",
       "</style>\n",
       "<table border=\"1\" class=\"dataframe\">\n",
       "  <thead>\n",
       "    <tr style=\"text-align: right;\">\n",
       "      <th></th>\n",
       "      <th>Home_Team</th>\n",
       "      <th>Away_Team</th>\n",
       "      <th>Season</th>\n",
       "      <th>Round</th>\n",
       "      <th>Elo_home</th>\n",
       "      <th>Elo_away</th>\n",
       "      <th>awayGoal</th>\n",
       "      <th>homeGoal</th>\n",
       "      <th>awayGoalTotal</th>\n",
       "      <th>homeGoalTotal</th>\n",
       "      <th>homeStreak</th>\n",
       "      <th>awayStreak</th>\n",
       "      <th>homeStreakTotal</th>\n",
       "      <th>awayStreakTotal</th>\n",
       "    </tr>\n",
       "  </thead>\n",
       "  <tbody>\n",
       "    <tr>\n",
       "      <th>668</th>\n",
       "      <td>355</td>\n",
       "      <td>372</td>\n",
       "      <td>2022</td>\n",
       "      <td>14</td>\n",
       "      <td>48</td>\n",
       "      <td>59</td>\n",
       "      <td>13</td>\n",
       "      <td>11</td>\n",
       "      <td>13</td>\n",
       "      <td>11</td>\n",
       "      <td>2</td>\n",
       "      <td>0</td>\n",
       "      <td>2</td>\n",
       "      <td>2</td>\n",
       "    </tr>\n",
       "    <tr>\n",
       "      <th>3745</th>\n",
       "      <td>494</td>\n",
       "      <td>432</td>\n",
       "      <td>2022</td>\n",
       "      <td>12</td>\n",
       "      <td>71</td>\n",
       "      <td>76</td>\n",
       "      <td>11</td>\n",
       "      <td>10</td>\n",
       "      <td>11</td>\n",
       "      <td>10</td>\n",
       "      <td>1</td>\n",
       "      <td>0</td>\n",
       "      <td>2</td>\n",
       "      <td>2</td>\n",
       "    </tr>\n",
       "    <tr>\n",
       "      <th>1284</th>\n",
       "      <td>249</td>\n",
       "      <td>407</td>\n",
       "      <td>2022</td>\n",
       "      <td>31</td>\n",
       "      <td>52</td>\n",
       "      <td>65</td>\n",
       "      <td>34</td>\n",
       "      <td>30</td>\n",
       "      <td>34</td>\n",
       "      <td>30</td>\n",
       "      <td>0</td>\n",
       "      <td>0</td>\n",
       "      <td>3</td>\n",
       "      <td>3</td>\n",
       "    </tr>\n",
       "    <tr>\n",
       "      <th>70</th>\n",
       "      <td>225</td>\n",
       "      <td>431</td>\n",
       "      <td>2022</td>\n",
       "      <td>8</td>\n",
       "      <td>54</td>\n",
       "      <td>52</td>\n",
       "      <td>6</td>\n",
       "      <td>3</td>\n",
       "      <td>6</td>\n",
       "      <td>3</td>\n",
       "      <td>0</td>\n",
       "      <td>1</td>\n",
       "      <td>2</td>\n",
       "      <td>1</td>\n",
       "    </tr>\n",
       "    <tr>\n",
       "      <th>1105</th>\n",
       "      <td>231</td>\n",
       "      <td>24</td>\n",
       "      <td>2022</td>\n",
       "      <td>13</td>\n",
       "      <td>49</td>\n",
       "      <td>58</td>\n",
       "      <td>11</td>\n",
       "      <td>7</td>\n",
       "      <td>11</td>\n",
       "      <td>7</td>\n",
       "      <td>0</td>\n",
       "      <td>1</td>\n",
       "      <td>2</td>\n",
       "      <td>2</td>\n",
       "    </tr>\n",
       "  </tbody>\n",
       "</table>\n",
       "</div>"
      ],
      "text/plain": [
       "      Home_Team  Away_Team  Season  Round  Elo_home  Elo_away  awayGoal  \\\n",
       "668         355        372    2022     14        48        59        13   \n",
       "3745        494        432    2022     12        71        76        11   \n",
       "1284        249        407    2022     31        52        65        34   \n",
       "70          225        431    2022      8        54        52         6   \n",
       "1105        231         24    2022     13        49        58        11   \n",
       "\n",
       "      homeGoal  awayGoalTotal  homeGoalTotal  homeStreak  awayStreak  \\\n",
       "668         11             13             11           2           0   \n",
       "3745        10             11             10           1           0   \n",
       "1284        30             34             30           0           0   \n",
       "70           3              6              3           0           1   \n",
       "1105         7             11              7           0           1   \n",
       "\n",
       "      homeStreakTotal  awayStreakTotal  \n",
       "668                 2                2  \n",
       "3745                2                2  \n",
       "1284                3                3  \n",
       "70                  2                1  \n",
       "1105                2                2  "
      ]
     },
     "execution_count": 2,
     "metadata": {},
     "output_type": "execute_result"
    }
   ],
   "source": [
    "trainData, testData, cols = models.loadData(\"cleaned_results.csv\")\n",
    "\n",
    "print(f\"Columns: {', '.join(cols)}\")\n",
    "trainData[\"x\"].head()"
   ]
  },
  {
   "cell_type": "markdown",
   "metadata": {},
   "source": [
    "We also need to reduce our dataset to the selected features"
   ]
  },
  {
   "cell_type": "code",
   "execution_count": 3,
   "metadata": {},
   "outputs": [
    {
     "name": "stdout",
     "output_type": "stream",
     "text": [
      "Selected features: Home_Team, Away_Team, Season, Round, Elo_home, Elo_away\n"
     ]
    },
    {
     "data": {
      "text/html": [
       "<div>\n",
       "<style scoped>\n",
       "    .dataframe tbody tr th:only-of-type {\n",
       "        vertical-align: middle;\n",
       "    }\n",
       "\n",
       "    .dataframe tbody tr th {\n",
       "        vertical-align: top;\n",
       "    }\n",
       "\n",
       "    .dataframe thead th {\n",
       "        text-align: right;\n",
       "    }\n",
       "</style>\n",
       "<table border=\"1\" class=\"dataframe\">\n",
       "  <thead>\n",
       "    <tr style=\"text-align: right;\">\n",
       "      <th></th>\n",
       "      <th>Away_Team</th>\n",
       "      <th>Elo_away</th>\n",
       "      <th>Elo_home</th>\n",
       "      <th>Home_Team</th>\n",
       "      <th>Round</th>\n",
       "      <th>Season</th>\n",
       "    </tr>\n",
       "  </thead>\n",
       "  <tbody>\n",
       "    <tr>\n",
       "      <th>668</th>\n",
       "      <td>372</td>\n",
       "      <td>59</td>\n",
       "      <td>48</td>\n",
       "      <td>355</td>\n",
       "      <td>14</td>\n",
       "      <td>2022</td>\n",
       "    </tr>\n",
       "    <tr>\n",
       "      <th>3745</th>\n",
       "      <td>432</td>\n",
       "      <td>76</td>\n",
       "      <td>71</td>\n",
       "      <td>494</td>\n",
       "      <td>12</td>\n",
       "      <td>2022</td>\n",
       "    </tr>\n",
       "    <tr>\n",
       "      <th>1284</th>\n",
       "      <td>407</td>\n",
       "      <td>65</td>\n",
       "      <td>52</td>\n",
       "      <td>249</td>\n",
       "      <td>31</td>\n",
       "      <td>2022</td>\n",
       "    </tr>\n",
       "    <tr>\n",
       "      <th>70</th>\n",
       "      <td>431</td>\n",
       "      <td>52</td>\n",
       "      <td>54</td>\n",
       "      <td>225</td>\n",
       "      <td>8</td>\n",
       "      <td>2022</td>\n",
       "    </tr>\n",
       "    <tr>\n",
       "      <th>1105</th>\n",
       "      <td>24</td>\n",
       "      <td>58</td>\n",
       "      <td>49</td>\n",
       "      <td>231</td>\n",
       "      <td>13</td>\n",
       "      <td>2022</td>\n",
       "    </tr>\n",
       "  </tbody>\n",
       "</table>\n",
       "</div>"
      ],
      "text/plain": [
       "      Away_Team  Elo_away  Elo_home  Home_Team  Round  Season\n",
       "668         372        59        48        355     14    2022\n",
       "3745        432        76        71        494     12    2022\n",
       "1284        407        65        52        249     31    2022\n",
       "70          431        52        54        225      8    2022\n",
       "1105         24        58        49        231     13    2022"
      ]
     },
     "execution_count": 3,
     "metadata": {},
     "output_type": "execute_result"
    }
   ],
   "source": [
    "import numpy as np\n",
    "feats = list(np.load(\"selectedFeatures.npy\"))\n",
    "\n",
    "trainData = models.subData(trainData, feats)\n",
    "testData = models.subData(testData, feats)\n",
    "\n",
    "print(f\"Selected features: {', '.join(feats)}\")\n",
    "trainData[\"x\"].head()"
   ]
  },
  {
   "cell_type": "markdown",
   "metadata": {},
   "source": [
    "We can then evaluate this model on the newer data"
   ]
  },
  {
   "cell_type": "code",
   "execution_count": 4,
   "metadata": {},
   "outputs": [
    {
     "name": "stdout",
     "output_type": "stream",
     "text": [
      "Training model: LinearDiscriminantAnalysis\n",
      "Performance summary for LinearDiscriminantAnalysis\n",
      "Score:\n",
      "- Training:  0.4685\n",
      "- Testing:   0.4595\n",
      "- Difference:-0.0091\n",
      "Performance summary for LinearDiscriminantAnalysis\n",
      "Score:\n",
      "- Training:  0.4685\n",
      "- Testing:   0.4595\n",
      "- Difference:-0.0091\n"
     ]
    },
    {
     "data": {
      "text/plain": [
       "(0.4594594594594595, 0.46854791299235743)"
      ]
     },
     "execution_count": 4,
     "metadata": {},
     "output_type": "execute_result"
    }
   ],
   "source": [
    "models.trainAndScore(mod, trainData, testData)\n",
    "models.performace(mod, trainData, testData)"
   ]
  },
  {
   "cell_type": "markdown",
   "metadata": {},
   "source": [
    "# Predictions\n",
    "\n",
    "We now have trained a model up to the newest dataset, we can start to generate predictions\n",
    "\n",
    "First we load the new features and ensure they are reduced to our selected features"
   ]
  },
  {
   "cell_type": "code",
   "execution_count": 5,
   "metadata": {},
   "outputs": [
    {
     "data": {
      "text/html": [
       "<div>\n",
       "<style scoped>\n",
       "    .dataframe tbody tr th:only-of-type {\n",
       "        vertical-align: middle;\n",
       "    }\n",
       "\n",
       "    .dataframe tbody tr th {\n",
       "        vertical-align: top;\n",
       "    }\n",
       "\n",
       "    .dataframe thead th {\n",
       "        text-align: right;\n",
       "    }\n",
       "</style>\n",
       "<table border=\"1\" class=\"dataframe\">\n",
       "  <thead>\n",
       "    <tr style=\"text-align: right;\">\n",
       "      <th></th>\n",
       "      <th>Away_Team</th>\n",
       "      <th>Elo_away</th>\n",
       "      <th>Elo_home</th>\n",
       "      <th>Home_Team</th>\n",
       "      <th>Round</th>\n",
       "      <th>Season</th>\n",
       "    </tr>\n",
       "  </thead>\n",
       "  <tbody>\n",
       "    <tr>\n",
       "      <th>64</th>\n",
       "      <td>215</td>\n",
       "      <td>34</td>\n",
       "      <td>44</td>\n",
       "      <td>148</td>\n",
       "      <td>33.0</td>\n",
       "      <td>2022.0</td>\n",
       "    </tr>\n",
       "    <tr>\n",
       "      <th>83</th>\n",
       "      <td>69</td>\n",
       "      <td>63</td>\n",
       "      <td>74</td>\n",
       "      <td>293</td>\n",
       "      <td>30.0</td>\n",
       "      <td>2022.0</td>\n",
       "    </tr>\n",
       "    <tr>\n",
       "      <th>129</th>\n",
       "      <td>124</td>\n",
       "      <td>51</td>\n",
       "      <td>42</td>\n",
       "      <td>127</td>\n",
       "      <td>34.0</td>\n",
       "      <td>2022.0</td>\n",
       "    </tr>\n",
       "    <tr>\n",
       "      <th>131</th>\n",
       "      <td>132</td>\n",
       "      <td>47</td>\n",
       "      <td>55</td>\n",
       "      <td>199</td>\n",
       "      <td>34.0</td>\n",
       "      <td>2022.0</td>\n",
       "    </tr>\n",
       "    <tr>\n",
       "      <th>130</th>\n",
       "      <td>419</td>\n",
       "      <td>53</td>\n",
       "      <td>50</td>\n",
       "      <td>264</td>\n",
       "      <td>34.0</td>\n",
       "      <td>2022.0</td>\n",
       "    </tr>\n",
       "  </tbody>\n",
       "</table>\n",
       "</div>"
      ],
      "text/plain": [
       "     Away_Team  Elo_away  Elo_home  Home_Team  Round  Season\n",
       "64         215        34        44        148   33.0  2022.0\n",
       "83          69        63        74        293   30.0  2022.0\n",
       "129        124        51        42        127   34.0  2022.0\n",
       "131        132        47        55        199   34.0  2022.0\n",
       "130        419        53        50        264   34.0  2022.0"
      ]
     },
     "execution_count": 5,
     "metadata": {},
     "output_type": "execute_result"
    }
   ],
   "source": [
    "newData, _, newCols = models.loadData(\"to_predict.csv\", 0, hasY=False)\n",
    "newData = models.subData(newData, feats)\n",
    "\n",
    "newData[\"x\"].head()"
   ]
  },
  {
   "cell_type": "markdown",
   "metadata": {},
   "source": [
    "And then make a set of predictions"
   ]
  },
  {
   "cell_type": "code",
   "execution_count": 7,
   "metadata": {},
   "outputs": [
    {
     "data": {
      "text/plain": [
       "array([2, 2, 2, 2, 2, 2, 2, 2, 3, 3, 2, 2, 3, 2, 2, 3, 2, 3, 2, 2, 2, 2,\n",
       "       2, 2, 2, 2, 2, 2, 2, 2, 2, 2, 2, 3, 2, 3, 2, 2, 2, 2, 2, 2, 3, 2,\n",
       "       2, 3, 3, 2, 3, 2, 3, 2, 2, 2, 2, 2, 3, 2, 2, 3, 2, 2, 2, 2, 2, 2,\n",
       "       3, 2, 2, 2, 3, 2, 2, 2, 2, 2, 2, 3, 2, 2, 2, 2, 2, 2, 3, 2, 2, 2,\n",
       "       3, 2, 2, 2, 2, 2, 3, 2, 2, 2, 3, 2, 3, 2, 2, 3, 2, 2, 3, 2, 3, 2,\n",
       "       2, 2, 2, 3, 2, 2, 2, 3, 2, 2, 2, 2, 2, 2, 2, 2, 2, 3, 2, 2, 3, 2,\n",
       "       2, 2, 3, 2, 2, 2])"
      ]
     },
     "execution_count": 7,
     "metadata": {},
     "output_type": "execute_result"
    }
   ],
   "source": [
    "prediction = mod.predict(newData[\"x\"])\n",
    "prediction"
   ]
  },
  {
   "cell_type": "markdown",
   "metadata": {},
   "source": [
    "Which we can translate into a set of outcomes"
   ]
  },
  {
   "cell_type": "code",
   "execution_count": 15,
   "metadata": {},
   "outputs": [
    {
     "data": {
      "text/html": [
       "<div>\n",
       "<style scoped>\n",
       "    .dataframe tbody tr th:only-of-type {\n",
       "        vertical-align: middle;\n",
       "    }\n",
       "\n",
       "    .dataframe tbody tr th {\n",
       "        vertical-align: top;\n",
       "    }\n",
       "\n",
       "    .dataframe thead th {\n",
       "        text-align: right;\n",
       "    }\n",
       "</style>\n",
       "<table border=\"1\" class=\"dataframe\">\n",
       "  <thead>\n",
       "    <tr style=\"text-align: right;\">\n",
       "      <th></th>\n",
       "      <th>Away_Team</th>\n",
       "      <th>Elo_away</th>\n",
       "      <th>Elo_home</th>\n",
       "      <th>Home_Team</th>\n",
       "      <th>Round</th>\n",
       "      <th>Season</th>\n",
       "      <th>Outcome</th>\n",
       "    </tr>\n",
       "  </thead>\n",
       "  <tbody>\n",
       "    <tr>\n",
       "      <th>64</th>\n",
       "      <td>215</td>\n",
       "      <td>34</td>\n",
       "      <td>44</td>\n",
       "      <td>148</td>\n",
       "      <td>33.0</td>\n",
       "      <td>2022.0</td>\n",
       "      <td>Home Win</td>\n",
       "    </tr>\n",
       "    <tr>\n",
       "      <th>83</th>\n",
       "      <td>69</td>\n",
       "      <td>63</td>\n",
       "      <td>74</td>\n",
       "      <td>293</td>\n",
       "      <td>30.0</td>\n",
       "      <td>2022.0</td>\n",
       "      <td>Home Win</td>\n",
       "    </tr>\n",
       "    <tr>\n",
       "      <th>129</th>\n",
       "      <td>124</td>\n",
       "      <td>51</td>\n",
       "      <td>42</td>\n",
       "      <td>127</td>\n",
       "      <td>34.0</td>\n",
       "      <td>2022.0</td>\n",
       "      <td>Home Win</td>\n",
       "    </tr>\n",
       "    <tr>\n",
       "      <th>131</th>\n",
       "      <td>132</td>\n",
       "      <td>47</td>\n",
       "      <td>55</td>\n",
       "      <td>199</td>\n",
       "      <td>34.0</td>\n",
       "      <td>2022.0</td>\n",
       "      <td>Home Win</td>\n",
       "    </tr>\n",
       "    <tr>\n",
       "      <th>130</th>\n",
       "      <td>419</td>\n",
       "      <td>53</td>\n",
       "      <td>50</td>\n",
       "      <td>264</td>\n",
       "      <td>34.0</td>\n",
       "      <td>2022.0</td>\n",
       "      <td>Home Win</td>\n",
       "    </tr>\n",
       "    <tr>\n",
       "      <th>...</th>\n",
       "      <td>...</td>\n",
       "      <td>...</td>\n",
       "      <td>...</td>\n",
       "      <td>...</td>\n",
       "      <td>...</td>\n",
       "      <td>...</td>\n",
       "      <td>...</td>\n",
       "    </tr>\n",
       "    <tr>\n",
       "      <th>77</th>\n",
       "      <td>315</td>\n",
       "      <td>70</td>\n",
       "      <td>89</td>\n",
       "      <td>478</td>\n",
       "      <td>31.0</td>\n",
       "      <td>2022.0</td>\n",
       "      <td>Home Win</td>\n",
       "    </tr>\n",
       "    <tr>\n",
       "      <th>44</th>\n",
       "      <td>342</td>\n",
       "      <td>89</td>\n",
       "      <td>59</td>\n",
       "      <td>102</td>\n",
       "      <td>30.0</td>\n",
       "      <td>2022.0</td>\n",
       "      <td>Away Win</td>\n",
       "    </tr>\n",
       "    <tr>\n",
       "      <th>35</th>\n",
       "      <td>417</td>\n",
       "      <td>46</td>\n",
       "      <td>60</td>\n",
       "      <td>503</td>\n",
       "      <td>35.0</td>\n",
       "      <td>2022.0</td>\n",
       "      <td>Home Win</td>\n",
       "    </tr>\n",
       "    <tr>\n",
       "      <th>97</th>\n",
       "      <td>138</td>\n",
       "      <td>53</td>\n",
       "      <td>98</td>\n",
       "      <td>50</td>\n",
       "      <td>32.0</td>\n",
       "      <td>2022.0</td>\n",
       "      <td>Home Win</td>\n",
       "    </tr>\n",
       "    <tr>\n",
       "      <th>85</th>\n",
       "      <td>365</td>\n",
       "      <td>58</td>\n",
       "      <td>89</td>\n",
       "      <td>366</td>\n",
       "      <td>30.0</td>\n",
       "      <td>2022.0</td>\n",
       "      <td>Home Win</td>\n",
       "    </tr>\n",
       "  </tbody>\n",
       "</table>\n",
       "<p>138 rows × 7 columns</p>\n",
       "</div>"
      ],
      "text/plain": [
       "     Away_Team  Elo_away  Elo_home  Home_Team  Round  Season   Outcome\n",
       "64         215        34        44        148   33.0  2022.0  Home Win\n",
       "83          69        63        74        293   30.0  2022.0  Home Win\n",
       "129        124        51        42        127   34.0  2022.0  Home Win\n",
       "131        132        47        55        199   34.0  2022.0  Home Win\n",
       "130        419        53        50        264   34.0  2022.0  Home Win\n",
       "..         ...       ...       ...        ...    ...     ...       ...\n",
       "77         315        70        89        478   31.0  2022.0  Home Win\n",
       "44         342        89        59        102   30.0  2022.0  Away Win\n",
       "35         417        46        60        503   35.0  2022.0  Home Win\n",
       "97         138        53        98         50   32.0  2022.0  Home Win\n",
       "85         365        58        89        366   30.0  2022.0  Home Win\n",
       "\n",
       "[138 rows x 7 columns]"
      ]
     },
     "execution_count": 15,
     "metadata": {},
     "output_type": "execute_result"
    }
   ],
   "source": [
    "predicted = newData[\"x\"].copy()\n",
    "predicted[\"Outcome\"] = prediction\n",
    "\n",
    "# convert from number to score\n",
    "# 0 for zero draw, 1 for nonzerodraw, 2 for homewin, 3 for awaywin\n",
    "predicted[\"Outcome\"].replace(0, \"0-0\", inplace=True)\n",
    "predicted[\"Outcome\"].replace(1, \"Tie\", inplace=True)\n",
    "predicted[\"Outcome\"].replace(2, \"Home Win\", inplace=True)\n",
    "predicted[\"Outcome\"].replace(3, \"Away Win\", inplace=True)\n",
    "\n",
    "predicted"
   ]
  },
  {
   "cell_type": "markdown",
   "metadata": {},
   "source": [
    "And show some interesting stats about the prediction"
   ]
  },
  {
   "cell_type": "code",
   "execution_count": 19,
   "metadata": {},
   "outputs": [
    {
     "data": {
      "text/plain": [
       "'The network predicts there will be 0 Ties, 108 Home wins, and 30 Away wins.'"
      ]
     },
     "execution_count": 19,
     "metadata": {},
     "output_type": "execute_result"
    }
   ],
   "source": [
    "h = len(np.where(prediction==2)[0])\n",
    "a = len(np.where(prediction==3)[0])\n",
    "t = len(prediction) - h - a\n",
    "\n",
    "f\"The network predicts there will be {t} Ties, {h} Home wins, and {a} Away wins.\""
   ]
  }
 ],
 "metadata": {
  "kernelspec": {
   "display_name": "Python 3.10.4 64-bit",
   "language": "python",
   "name": "python3"
  },
  "language_info": {
   "codemirror_mode": {
    "name": "ipython",
    "version": 3
   },
   "file_extension": ".py",
   "mimetype": "text/x-python",
   "name": "python",
   "nbconvert_exporter": "python",
   "pygments_lexer": "ipython3",
   "version": "3.10.4"
  },
  "orig_nbformat": 4,
  "vscode": {
   "interpreter": {
    "hash": "916dbcbb3f70747c44a77c7bcd40155683ae19c65e1c03b4aa3499c5328201f1"
   }
  }
 },
 "nbformat": 4,
 "nbformat_minor": 2
}
